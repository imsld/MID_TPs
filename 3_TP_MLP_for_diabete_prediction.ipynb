{
  "nbformat": 4,
  "nbformat_minor": 0,
  "metadata": {
    "colab": {
      "provenance": [],
      "include_colab_link": true
    },
    "kernelspec": {
      "name": "python3",
      "display_name": "Python 3"
    },
    "language_info": {
      "name": "python"
    }
  },
  "cells": [
    {
      "cell_type": "markdown",
      "metadata": {
        "id": "view-in-github",
        "colab_type": "text"
      },
      "source": [
        "<a href=\"https://colab.research.google.com/github/imsld/MID_TPs/blob/main/3_TP_MLP_for_diabete_prediction.ipynb\" target=\"_parent\"><img src=\"https://colab.research.google.com/assets/colab-badge.svg\" alt=\"Open In Colab\"/></a>"
      ]
    },
    {
      "cell_type": "markdown",
      "source": [
        "# **TP n°3: Learning machine model for PIMA Diabetes  (version draft)** \n",
        "\n",
        "**Authors:** SMAHI Mohammed Ismail / Benledghem Rafika\n",
        "\n",
        "**Year:** 2022/2023\n",
        "\n",
        "**Unit:** Learning machine\n",
        "\n",
        "**Promotion:** Modèles intelligents et décision MID\n",
        "\n",
        "**Department:** Computer Sciences (University of Tlemcen)"
      ],
      "metadata": {
        "id": "EXIB0l3MyqRl"
      }
    },
    {
      "cell_type": "code",
      "source": [
        "import numpy as np\n",
        "import pandas as pd\n",
        "from sklearn.model_selection import train_test_split\n",
        "from sklearn import preprocessing\n",
        "from matplotlib import pyplot as plt"
      ],
      "metadata": {
        "id": "eDf8MpkIR75b"
      },
      "execution_count": null,
      "outputs": []
    },
    {
      "cell_type": "code",
      "source": [
        "%%capture\n",
        "#if you work on Colab follow this steps (Otherwis go to the next cell):\n",
        "\n",
        "#0 : make a necessary importation\n",
        "import os\n",
        "\n",
        "#1 : upload the dataset file 'pima.csv' on the your google drive\n",
        "file_name = \"pima.csv\"\n",
        "\n",
        "#2 : get the path where the dataset is uploded (make any necessary changes)\n",
        "notebookpath=\"/content/drive/MyDrive/Colab Notebooks/\"\n",
        "\n",
        "#3 : mount your Google Drive files by running the following code\n",
        "from google.colab import drive\n",
        "drive.mount(\"/content/drive/\")\n",
        "\n",
        "#4 : check if the dataset exists in the Drive\n",
        "if not os.path.isfile(os.path.join(notebookpath, file_name)):\n",
        "    raise ValueError(f\"file '{file_name}' not found in path '{notebookpath}'.\")\n",
        "\n",
        "#5 : set the dataset path\n",
        "dataset_path = notebookpath + file_name"
      ],
      "metadata": {
        "id": "TgECPrBuJasv"
      },
      "execution_count": null,
      "outputs": []
    },
    {
      "cell_type": "code",
      "source": [
        "%%capture\n",
        "#if you work on anaconda follow this steps (Otherwis go to the previous cell):\n",
        "\n",
        "#1 : put the dataset file 'pima.csv' on the specific folder\n",
        "file_name = \"pima.csv\"\n",
        "\n",
        "#2 : get the path where the dataset is stored (make any necessary changes)\n",
        "notebookpath=\"C:/Users/anaconda/notebook/\"\n",
        "\n",
        "#5 : set tthe dataset path\n",
        "dataset_path = notebookpath + file_name\n",
        "\n",
        "#another option (you can try this code)\n",
        "'''  \n",
        "  import io\n",
        "  from google.colab import files\n",
        "  uploaded = files.upload()\n",
        "  dataset_path = io.BytesIO(uploaded['pima.csv'])\n",
        "'''"
      ],
      "metadata": {
        "id": "Ji1Izcb4YoQF"
      },
      "execution_count": null,
      "outputs": []
    },
    {
      "cell_type": "code",
      "source": [
        "#Load the dataset and set the header names\n",
        "\n",
        "# P  : Number of times pregnant\n",
        "# G  : Plasma glucose concentration a 2 hours in an oral glucose tolerance test\n",
        "# BP : Diastolic blood pressure (mm Hg)\n",
        "# ST : Triceps skin fold thickness (mm)\n",
        "# I  : 2-Hour serum insulin (mu U/ml)\n",
        "# BMI: Body Mass Index (weight in kg/(height in m)^2)\n",
        "# DPF: Diabetes pedigree function\n",
        "# AGE: Age (years)\n",
        "# Outcome (0 or 1)\n",
        "\n",
        "columns_names = ['P','G','BP','ST','I','BMI','DPF','AGE','Outcome']\n",
        "dataset = pd.read_csv(dataset_path, sep=',', header=None, names=columns_names)\n",
        "dataset.head()"
      ],
      "metadata": {
        "id": "0ZISJr79Tay1"
      },
      "execution_count": null,
      "outputs": []
    },
    {
      "cell_type": "code",
      "source": [
        "#plot a histogram representation to visualize the distribution of data in our dataset\n",
        "#for more details on creating histograms with Pandas, go to: https://mode.com/example-gallery/python_histogram/\n",
        "dataset.hist(figsize=(12,8), color='blue', zorder=2, rwidth=0.9)\n",
        "plt.show()"
      ],
      "metadata": {
        "id": "uZxNIzqAKHrh",
        "colab": {
          "base_uri": "https://localhost:8080/",
          "height": 499
        },
        "outputId": "62c3389b-aa75-4a54-f31e-35522726a0de"
      },
      "execution_count": null,
      "outputs": [
        {
          "output_type": "display_data",
          "data": {
            "text/plain": [
              "<Figure size 864x576 with 9 Axes>"
            ],
            "image/png": "[encoded data removed]"
          },
          "metadata": {
            "needs_background": "light"
          }
        }
      ]
    },
    {
      "cell_type": "code",
      "source": [
        "#generate descriptive statistics \n",
        "dataset.describe()"
      ],
      "metadata": {
        "id": "nriAt0knOTCn",
        "colab": {
          "base_uri": "https://localhost:8080/",
          "height": 300
        },
        "outputId": "e00dc403-904e-4cb6-b045-8156fb651dcc"
      },
      "execution_count": null,
      "outputs": [
        {
          "output_type": "execute_result",
          "data": {
            "text/plain": [
              "                P           G          BP          ST           I         BMI  \\\n",
              "count  768.000000  768.000000  768.000000  768.000000  768.000000  768.000000   \n",
              "mean     3.845052  120.894531   69.105469   20.536458   79.799479   31.992578   \n",
              "std      3.369578   31.972618   19.355807   15.952218  115.244002    7.884160   \n",
              "min      0.000000    0.000000    0.000000    0.000000    0.000000    0.000000   \n",
              "25%      1.000000   99.000000   62.000000    0.000000    0.000000   27.300000   \n",
              "50%      3.000000  117.000000   72.000000   23.000000   30.500000   32.000000   \n",
              "75%      6.000000  140.250000   80.000000   32.000000  127.250000   36.600000   \n",
              "max     17.000000  199.000000  122.000000   99.000000  846.000000   67.100000   \n",
              "\n",
              "              DPF         AGE     Outcome  \n",
              "count  768.000000  768.000000  768.000000  \n",
              "mean     0.471876   33.240885    0.348958  \n",
              "std      0.331329   11.760232    0.476951  \n",
              "min      0.078000   21.000000    0.000000  \n",
              "25%      0.243750   24.000000    0.000000  \n",
              "50%      0.372500   29.000000    0.000000  \n",
              "75%      0.626250   41.000000    1.000000  \n",
              "max      2.420000   81.000000    1.000000  "
            ],
            "text/html": [
              "\n",
              "  <div id=\"df-704903f4-6d1a-426a-97de-755b64130526\">\n",
              "    <div class=\"colab-df-container\">\n",
              "      <div>\n",
              "<style scoped>\n",
              "    .dataframe tbody tr th:only-of-type {\n",
              "        vertical-align: middle;\n",
              "    }\n",
              "\n",
              "    .dataframe tbody tr th {\n",
              "        vertical-align: top;\n",
              "    }\n",
              "\n",
              "    .dataframe thead th {\n",
              "        text-align: right;\n",
              "    }\n",
              "</style>\n",
              "<table border=\"1\" class=\"dataframe\">\n",
              "  <thead>\n",
              "    <tr style=\"text-align: right;\">\n",
              "      <th></th>\n",
              "      <th>P</th>\n",
              "      <th>G</th>\n",
              "      <th>BP</th>\n",
              "      <th>ST</th>\n",
              "      <th>I</th>\n",
              "      <th>BMI</th>\n",
              "      <th>DPF</th>\n",
              "      <th>AGE</th>\n",
              "      <th>Outcome</th>\n",
              "    </tr>\n",
              "  </thead>\n",
              "  <tbody>\n",
              "    <tr>\n",
              "      <th>count</th>\n",
              "      <td>768.000000</td>\n",
              "      <td>768.000000</td>\n",
              "      <td>768.000000</td>\n",
              "      <td>768.000000</td>\n",
              "      <td>768.000000</td>\n",
              "      <td>768.000000</td>\n",
              "      <td>768.000000</td>\n",
              "      <td>768.000000</td>\n",
              "      <td>768.000000</td>\n",
              "    </tr>\n",
              "    <tr>\n",
              "      <th>mean</th>\n",
              "      <td>3.845052</td>\n",
              "      <td>120.894531</td>\n",
              "      <td>69.105469</td>\n",
              "      <td>20.536458</td>\n",
              "      <td>79.799479</td>\n",
              "      <td>31.992578</td>\n",
              "      <td>0.471876</td>\n",
              "      <td>33.240885</td>\n",
              "      <td>0.348958</td>\n",
              "    </tr>\n",
              "    <tr>\n",
              "      <th>std</th>\n",
              "      <td>3.369578</td>\n",
              "      <td>31.972618</td>\n",
              "      <td>19.355807</td>\n",
              "      <td>15.952218</td>\n",
              "      <td>115.244002</td>\n",
              "      <td>7.884160</td>\n",
              "      <td>0.331329</td>\n",
              "      <td>11.760232</td>\n",
              "      <td>0.476951</td>\n",
              "    </tr>\n",
              "    <tr>\n",
              "      <th>min</th>\n",
              "      <td>0.000000</td>\n",
              "      <td>0.000000</td>\n",
              "      <td>0.000000</td>\n",
              "      <td>0.000000</td>\n",
              "      <td>0.000000</td>\n",
              "      <td>0.000000</td>\n",
              "      <td>0.078000</td>\n",
              "      <td>21.000000</td>\n",
              "      <td>0.000000</td>\n",
              "    </tr>\n",
              "    <tr>\n",
              "      <th>25%</th>\n",
              "      <td>1.000000</td>\n",
              "      <td>99.000000</td>\n",
              "      <td>62.000000</td>\n",
              "      <td>0.000000</td>\n",
              "      <td>0.000000</td>\n",
              "      <td>27.300000</td>\n",
              "      <td>0.243750</td>\n",
              "      <td>24.000000</td>\n",
              "      <td>0.000000</td>\n",
              "    </tr>\n",
              "    <tr>\n",
              "      <th>50%</th>\n",
              "      <td>3.000000</td>\n",
              "      <td>117.000000</td>\n",
              "      <td>72.000000</td>\n",
              "      <td>23.000000</td>\n",
              "      <td>30.500000</td>\n",
              "      <td>32.000000</td>\n",
              "      <td>0.372500</td>\n",
              "      <td>29.000000</td>\n",
              "      <td>0.000000</td>\n",
              "    </tr>\n",
              "    <tr>\n",
              "      <th>75%</th>\n",
              "      <td>6.000000</td>\n",
              "      <td>140.250000</td>\n",
              "      <td>80.000000</td>\n",
              "      <td>32.000000</td>\n",
              "      <td>127.250000</td>\n",
              "      <td>36.600000</td>\n",
              "      <td>0.626250</td>\n",
              "      <td>41.000000</td>\n",
              "      <td>1.000000</td>\n",
              "    </tr>\n",
              "    <tr>\n",
              "      <th>max</th>\n",
              "      <td>17.000000</td>\n",
              "      <td>199.000000</td>\n",
              "      <td>122.000000</td>\n",
              "      <td>99.000000</td>\n",
              "      <td>846.000000</td>\n",
              "      <td>67.100000</td>\n",
              "      <td>2.420000</td>\n",
              "      <td>81.000000</td>\n",
              "      <td>1.000000</td>\n",
              "    </tr>\n",
              "  </tbody>\n",
              "</table>\n",
              "</div>\n",
              "      <button class=\"colab-df-convert\" onclick=\"convertToInteractive('df-704903f4-6d1a-426a-97de-755b64130526')\"\n",
              "              title=\"Convert this dataframe to an interactive table.\"\n",
              "              style=\"display:none;\">\n",
              "        \n",
              "  <svg xmlns=\"http://www.w3.org/2000/svg\" height=\"24px\"viewBox=\"0 0 24 24\"\n",
              "       width=\"24px\">\n",
              "    <path d=\"M0 0h24v24H0V0z\" fill=\"none\"/>\n",
              "    <path d=\"M18.56 5.44l.94 2.06.94-2.06 2.06-.94-2.06-.94-.94-2.06-.94 2.06-2.06.94zm-11 1L8.5 8.5l.94-2.06 2.06-.94-2.06-.94L8.5 2.5l-.94 2.06-2.06.94zm10 10l.94 2.06.94-2.06 2.06-.94-2.06-.94-.94-2.06-.94 2.06-2.06.94z\"/><path d=\"M17.41 7.96l-1.37-1.37c-.4-.4-.92-.59-1.43-.59-.52 0-1.04.2-1.43.59L10.3 9.45l-7.72 7.72c-.78.78-.78 2.05 0 2.83L4 21.41c.39.39.9.59 1.41.59.51 0 1.02-.2 1.41-.59l7.78-7.78 2.81-2.81c.8-.78.8-2.07 0-2.86zM5.41 20L4 18.59l7.72-7.72 1.47 1.35L5.41 20z\"/>\n",
              "  </svg>\n",
              "      </button>\n",
              "      \n",
              "  <style>\n",
              "    .colab-df-container {\n",
              "      display:flex;\n",
              "      flex-wrap:wrap;\n",
              "      gap: 12px;\n",
              "    }\n",
              "\n",
              "    .colab-df-convert {\n",
              "      background-color: #E8F0FE;\n",
              "      border: none;\n",
              "      border-radius: 50%;\n",
              "      cursor: pointer;\n",
              "      display: none;\n",
              "      fill: #1967D2;\n",
              "      height: 32px;\n",
              "      padding: 0 0 0 0;\n",
              "      width: 32px;\n",
              "    }\n",
              "\n",
              "    .colab-df-convert:hover {\n",
              "      background-color: #E2EBFA;\n",
              "      box-shadow: 0px 1px 2px rgba(60, 64, 67, 0.3), 0px 1px 3px 1px rgba(60, 64, 67, 0.15);\n",
              "      fill: #174EA6;\n",
              "    }\n",
              "\n",
              "    [theme=dark] .colab-df-convert {\n",
              "      background-color: #3B4455;\n",
              "      fill: #D2E3FC;\n",
              "    }\n",
              "\n",
              "    [theme=dark] .colab-df-convert:hover {\n",
              "      background-color: #434B5C;\n",
              "      box-shadow: 0px 1px 3px 1px rgba(0, 0, 0, 0.15);\n",
              "      filter: drop-shadow(0px 1px 2px rgba(0, 0, 0, 0.3));\n",
              "      fill: #FFFFFF;\n",
              "    }\n",
              "  </style>\n",
              "\n",
              "      <script>\n",
              "        const buttonEl =\n",
              "          document.querySelector('#df-704903f4-6d1a-426a-97de-755b64130526 button.colab-df-convert');\n",
              "        buttonEl.style.display =\n",
              "          google.colab.kernel.accessAllowed ? 'block' : 'none';\n",
              "\n",
              "        async function convertToInteractive(key) {\n",
              "          const element = document.querySelector('#df-704903f4-6d1a-426a-97de-755b64130526');\n",
              "          const dataTable =\n",
              "            await google.colab.kernel.invokeFunction('convertToInteractive',\n",
              "                                                     [key], {});\n",
              "          if (!dataTable) return;\n",
              "\n",
              "          const docLinkHtml = 'Like what you see? Visit the ' +\n",
              "            '<a target=\"_blank\" href=https://colab.research.google.com/notebooks/data_table.ipynb>data table notebook</a>'\n",
              "            + ' to learn more about interactive tables.';\n",
              "          element.innerHTML = '';\n",
              "          dataTable['output_type'] = 'display_data';\n",
              "          await google.colab.output.renderOutput(dataTable, element);\n",
              "          const docLink = document.createElement('div');\n",
              "          docLink.innerHTML = docLinkHtml;\n",
              "          element.appendChild(docLink);\n",
              "        }\n",
              "      </script>\n",
              "    </div>\n",
              "  </div>\n",
              "  "
            ]
          },
          "metadata": {},
          "execution_count": 5
        }
      ]
    },
    {
      "cell_type": "code",
      "source": [
        "#get number of 0 values for each feature (todo student) \n",
        "for col in dataset.columns:\n",
        "    zero_values_rows = dataset.loc[dataset[col]==0].shape[0]\n",
        "    print(col+\": \"+str(zero_values_rows))\n",
        "\n",
        "#get number of missing values for each feature and set it's at 0 (todo student)\n",
        "for col in dataset.columns:\n",
        "    missing_values_rows = dataset[col].isna().sum() \n",
        "    print(col+\": \"+str(missing_values_rows))\n",
        "    if (missing_values_rows == 0):\n",
        "      dataset[col].fillna(0)\n",
        "\n"
      ],
      "metadata": {
        "id": "gzvKo-h_INAb"
      },
      "execution_count": null,
      "outputs": []
    },
    {
      "cell_type": "code",
      "source": [
        "# Preprocessing data of our dataset by scaling all features.\n",
        "# we want to put our data on the same scale (rescaled data in the range of 0 and 1).\n",
        "# For more information see: https://medium.com/coderbyte/how-to-normalize-the-data-in-python-18a1cbc47ec1\n",
        "\n",
        "scaler = preprocessing.MinMaxScaler(feature_range=(0,1))\n",
        "data = dataset.drop(['Outcome'], axis='columns')\n",
        "data = scaler.fit_transform(data)\n",
        "scaled_data = pd.DataFrame(data, columns=columns_names[0:-1])\n",
        "scaled_data.head()"
      ],
      "metadata": {
        "colab": {
          "base_uri": "https://localhost:8080/",
          "height": 206
        },
        "id": "ZpAmM_CYLTPe",
        "outputId": "4b57ad0f-0e28-40a3-98c6-e325d71839d9"
      },
      "execution_count": null,
      "outputs": [
        {
          "output_type": "execute_result",
          "data": {
            "text/plain": [
              "          P         G        BP        ST         I       BMI       DPF  \\\n",
              "0  0.352941  0.743719  0.590164  0.353535  0.000000  0.500745  0.234415   \n",
              "1  0.058824  0.427136  0.540984  0.292929  0.000000  0.396423  0.116567   \n",
              "2  0.470588  0.919598  0.524590  0.000000  0.000000  0.347243  0.253629   \n",
              "3  0.058824  0.447236  0.540984  0.232323  0.111111  0.418778  0.038002   \n",
              "4  0.000000  0.688442  0.327869  0.353535  0.198582  0.642325  0.943638   \n",
              "\n",
              "        AGE  \n",
              "0  0.483333  \n",
              "1  0.166667  \n",
              "2  0.183333  \n",
              "3  0.000000  \n",
              "4  0.200000  "
            ],
            "text/html": [
              "\n",
              "  <div id=\"df-6e71cac4-3201-4614-abfe-0b5abe87fc41\">\n",
              "    <div class=\"colab-df-container\">\n",
              "      <div>\n",
              "<style scoped>\n",
              "    .dataframe tbody tr th:only-of-type {\n",
              "        vertical-align: middle;\n",
              "    }\n",
              "\n",
              "    .dataframe tbody tr th {\n",
              "        vertical-align: top;\n",
              "    }\n",
              "\n",
              "    .dataframe thead th {\n",
              "        text-align: right;\n",
              "    }\n",
              "</style>\n",
              "<table border=\"1\" class=\"dataframe\">\n",
              "  <thead>\n",
              "    <tr style=\"text-align: right;\">\n",
              "      <th></th>\n",
              "      <th>P</th>\n",
              "      <th>G</th>\n",
              "      <th>BP</th>\n",
              "      <th>ST</th>\n",
              "      <th>I</th>\n",
              "      <th>BMI</th>\n",
              "      <th>DPF</th>\n",
              "      <th>AGE</th>\n",
              "    </tr>\n",
              "  </thead>\n",
              "  <tbody>\n",
              "    <tr>\n",
              "      <th>0</th>\n",
              "      <td>0.352941</td>\n",
              "      <td>0.743719</td>\n",
              "      <td>0.590164</td>\n",
              "      <td>0.353535</td>\n",
              "      <td>0.000000</td>\n",
              "      <td>0.500745</td>\n",
              "      <td>0.234415</td>\n",
              "      <td>0.483333</td>\n",
              "    </tr>\n",
              "    <tr>\n",
              "      <th>1</th>\n",
              "      <td>0.058824</td>\n",
              "      <td>0.427136</td>\n",
              "      <td>0.540984</td>\n",
              "      <td>0.292929</td>\n",
              "      <td>0.000000</td>\n",
              "      <td>0.396423</td>\n",
              "      <td>0.116567</td>\n",
              "      <td>0.166667</td>\n",
              "    </tr>\n",
              "    <tr>\n",
              "      <th>2</th>\n",
              "      <td>0.470588</td>\n",
              "      <td>0.919598</td>\n",
              "      <td>0.524590</td>\n",
              "      <td>0.000000</td>\n",
              "      <td>0.000000</td>\n",
              "      <td>0.347243</td>\n",
              "      <td>0.253629</td>\n",
              "      <td>0.183333</td>\n",
              "    </tr>\n",
              "    <tr>\n",
              "      <th>3</th>\n",
              "      <td>0.058824</td>\n",
              "      <td>0.447236</td>\n",
              "      <td>0.540984</td>\n",
              "      <td>0.232323</td>\n",
              "      <td>0.111111</td>\n",
              "      <td>0.418778</td>\n",
              "      <td>0.038002</td>\n",
              "      <td>0.000000</td>\n",
              "    </tr>\n",
              "    <tr>\n",
              "      <th>4</th>\n",
              "      <td>0.000000</td>\n",
              "      <td>0.688442</td>\n",
              "      <td>0.327869</td>\n",
              "      <td>0.353535</td>\n",
              "      <td>0.198582</td>\n",
              "      <td>0.642325</td>\n",
              "      <td>0.943638</td>\n",
              "      <td>0.200000</td>\n",
              "    </tr>\n",
              "  </tbody>\n",
              "</table>\n",
              "</div>\n",
              "      <button class=\"colab-df-convert\" onclick=\"convertToInteractive('df-6e71cac4-3201-4614-abfe-0b5abe87fc41')\"\n",
              "              title=\"Convert this dataframe to an interactive table.\"\n",
              "              style=\"display:none;\">\n",
              "        \n",
              "  <svg xmlns=\"http://www.w3.org/2000/svg\" height=\"24px\"viewBox=\"0 0 24 24\"\n",
              "       width=\"24px\">\n",
              "    <path d=\"M0 0h24v24H0V0z\" fill=\"none\"/>\n",
              "    <path d=\"M18.56 5.44l.94 2.06.94-2.06 2.06-.94-2.06-.94-.94-2.06-.94 2.06-2.06.94zm-11 1L8.5 8.5l.94-2.06 2.06-.94-2.06-.94L8.5 2.5l-.94 2.06-2.06.94zm10 10l.94 2.06.94-2.06 2.06-.94-2.06-.94-.94-2.06-.94 2.06-2.06.94z\"/><path d=\"M17.41 7.96l-1.37-1.37c-.4-.4-.92-.59-1.43-.59-.52 0-1.04.2-1.43.59L10.3 9.45l-7.72 7.72c-.78.78-.78 2.05 0 2.83L4 21.41c.39.39.9.59 1.41.59.51 0 1.02-.2 1.41-.59l7.78-7.78 2.81-2.81c.8-.78.8-2.07 0-2.86zM5.41 20L4 18.59l7.72-7.72 1.47 1.35L5.41 20z\"/>\n",
              "  </svg>\n",
              "      </button>\n",
              "      \n",
              "  <style>\n",
              "    .colab-df-container {\n",
              "      display:flex;\n",
              "      flex-wrap:wrap;\n",
              "      gap: 12px;\n",
              "    }\n",
              "\n",
              "    .colab-df-convert {\n",
              "      background-color: #E8F0FE;\n",
              "      border: none;\n",
              "      border-radius: 50%;\n",
              "      cursor: pointer;\n",
              "      display: none;\n",
              "      fill: #1967D2;\n",
              "      height: 32px;\n",
              "      padding: 0 0 0 0;\n",
              "      width: 32px;\n",
              "    }\n",
              "\n",
              "    .colab-df-convert:hover {\n",
              "      background-color: #E2EBFA;\n",
              "      box-shadow: 0px 1px 2px rgba(60, 64, 67, 0.3), 0px 1px 3px 1px rgba(60, 64, 67, 0.15);\n",
              "      fill: #174EA6;\n",
              "    }\n",
              "\n",
              "    [theme=dark] .colab-df-convert {\n",
              "      background-color: #3B4455;\n",
              "      fill: #D2E3FC;\n",
              "    }\n",
              "\n",
              "    [theme=dark] .colab-df-convert:hover {\n",
              "      background-color: #434B5C;\n",
              "      box-shadow: 0px 1px 3px 1px rgba(0, 0, 0, 0.15);\n",
              "      filter: drop-shadow(0px 1px 2px rgba(0, 0, 0, 0.3));\n",
              "      fill: #FFFFFF;\n",
              "    }\n",
              "  </style>\n",
              "\n",
              "      <script>\n",
              "        const buttonEl =\n",
              "          document.querySelector('#df-6e71cac4-3201-4614-abfe-0b5abe87fc41 button.colab-df-convert');\n",
              "        buttonEl.style.display =\n",
              "          google.colab.kernel.accessAllowed ? 'block' : 'none';\n",
              "\n",
              "        async function convertToInteractive(key) {\n",
              "          const element = document.querySelector('#df-6e71cac4-3201-4614-abfe-0b5abe87fc41');\n",
              "          const dataTable =\n",
              "            await google.colab.kernel.invokeFunction('convertToInteractive',\n",
              "                                                     [key], {});\n",
              "          if (!dataTable) return;\n",
              "\n",
              "          const docLinkHtml = 'Like what you see? Visit the ' +\n",
              "            '<a target=\"_blank\" href=https://colab.research.google.com/notebooks/data_table.ipynb>data table notebook</a>'\n",
              "            + ' to learn more about interactive tables.';\n",
              "          element.innerHTML = '';\n",
              "          dataTable['output_type'] = 'display_data';\n",
              "          await google.colab.output.renderOutput(dataTable, element);\n",
              "          const docLink = document.createElement('div');\n",
              "          docLink.innerHTML = docLinkHtml;\n",
              "          element.appendChild(docLink);\n",
              "        }\n",
              "      </script>\n",
              "    </div>\n",
              "  </div>\n",
              "  "
            ]
          },
          "metadata": {},
          "execution_count": 7
        }
      ]
    },
    {
      "cell_type": "code",
      "source": [
        "#split the dataset \n",
        "#80% for train and 20% for test\n",
        "\n",
        "np.random.seed(1)\n",
        "X_train, X_test, y_train, y_test = train_test_split(scaled_data, dataset.Outcome, test_size=.2, random_state=0)\n",
        "X_train"
      ],
      "metadata": {
        "id": "GTrTvRE3QNmr"
      },
      "execution_count": null,
      "outputs": []
    },
    {
      "cell_type": "code",
      "source": [
        "def initialize_parameters_deep(layer_dims):\n",
        "  np.random.seed(3)\n",
        "  parameters = {}\n",
        "  L = len(layer_dims) # number of layers in the network\n",
        "\n",
        "  for l in range(1, L): \n",
        "      parameters['W' + str(l)] = np.random.randn(layer_dims[l], layer_dims[l - 1]) * 0.01\n",
        "      parameters['b' + str(l)] = np.random.randn(layer_dims[l], 1) * 0.01\n",
        "     \n",
        "  return parameters"
      ],
      "metadata": {
        "id": "19Ld7Q5HCo5q"
      },
      "execution_count": null,
      "outputs": []
    },
    {
      "cell_type": "code",
      "source": [
        "def sigmoid(Z):\n",
        "  A = 1/(1+np.exp(-Z))\n",
        "  return A\n",
        "\n",
        "def relu(Z):\n",
        "  A = np.maximum(0,Z)\n",
        "  return A\n",
        "\n",
        "def activation_forward(A_prev, W, b, activation):\n",
        "  \n",
        "  Z = np.dot(W,A_prev) + b\n",
        "  A = Z\n",
        "\n",
        "  if activation == \"sigmoid\":\n",
        "    A = sigmoid(Z)\n",
        "  \n",
        "  elif activation == \"relu\":\n",
        "    A = relu(Z)\n",
        "\n",
        "  linear_cache = (A_prev, W, b)\n",
        "  activation_cache = Z \n",
        "  cache = (linear_cache, activation_cache)\n",
        "\n",
        "  return A, cache"
      ],
      "metadata": {
        "id": "bLxHH-zg3NsG"
      },
      "execution_count": null,
      "outputs": []
    },
    {
      "cell_type": "code",
      "source": [
        "def model_forward(X, parameters, activations):\n",
        "  caches = [] #we need it in backward propagation \n",
        "  A = X\n",
        "  L = len(parameters) // 2 # number of layers in the neural network  \n",
        "\n",
        "  for l in range(1, L):\n",
        "      A_prev = A \n",
        "      A, cache = activation_forward(A_prev, parameters['W' + str(l)], \n",
        "                                            parameters['b' + str(l)], \n",
        "                                            activation=activations[l-1])\n",
        "      caches.append(cache)\n",
        "\n",
        "  \n",
        "\n",
        "  AL, cache = activation_forward(A, parameters['W' + str(L)], \n",
        "                                    parameters['b' + str(L)], \n",
        "                                    activation=activations[L-1])\n",
        "  caches.append(cache)\n",
        "          \n",
        "  return AL, caches"
      ],
      "metadata": {
        "id": "vzu1Slvez21F"
      },
      "execution_count": null,
      "outputs": []
    },
    {
      "cell_type": "markdown",
      "source": [
        "# Cost function\n",
        "\n",
        "Implement the cross-entropy cost, using the following formula:\n",
        "\n",
        "$-\\frac{1}{m}\\sum\\limits_{i=0}^{m}(y^{(i)}\\log(\\hat{y}^{(i)})+ (1-y^{(i)})\\log(1-\\hat{y}^{(i)}))$"
      ],
      "metadata": {
        "id": "KI0OqshoMurJ"
      }
    },
    {
      "cell_type": "code",
      "source": [
        "#Implement the cross-entropy cost, using the following formula: \n",
        "def compute_cost(AL, Y):\n",
        "  m = Y.shape[1]\n",
        "  #cost = (-1/m) * (np.dot(Y, np.log(AL).T) + np.dot((1-Y), np.log(1-AL).T))\n",
        "  #cost = np.squeeze(cost)  # To make sure your cost's shape is what we expect (e.g. this turns [[17]] into 17).\n",
        "  cost = (-1/m) * (np.sum(Y* np.log(AL) + (1-Y) * np.log(1-AL)))\n",
        "  return cost"
      ],
      "metadata": {
        "id": "lQoBMwi2MWo7"
      },
      "execution_count": null,
      "outputs": []
    },
    {
      "cell_type": "markdown",
      "source": [
        "# calculate the derivative\n",
        "$\\frac{\\delta\\ \\text{Cost}}{\\delta \\hat{y}}=$"
      ],
      "metadata": {
        "id": "-3RVPSV4pMbS"
      }
    },
    {
      "cell_type": "code",
      "source": [
        "def relu_backward(dA, cache):    \n",
        "  \n",
        "  Z = cache\n",
        "  dZ = np.array(dA, copy=True) # just converting dz to a correct object.\n",
        "\n",
        "  # When z <= 0, you should set dz to 0 as well. \n",
        "  dZ[Z <= 0] = 0\n",
        "\n",
        "  return dZ\n",
        "\n",
        "def sigmoid_backward(dA, cache):\n",
        "  Z = cache\n",
        "  s = 1/(1+np.exp(-Z))\n",
        "  dZ = dA * s * (1-s)\n",
        "  \n",
        "  return dZ\n",
        "\n",
        "\n",
        "def linear_backward(dZ, cache):\n",
        "  # Here cache is \"linear_cache\" containing (A_prev, W, b) coming from the forward propagation in the current layer\n",
        "\n",
        "  A_prev, W, b = cache\n",
        "  m = A_prev.shape[1]\n",
        "\n",
        "  dW = (1/m) * np.dot(dZ, A_prev.T)\n",
        "  db = (1/m) * np.sum(dZ, axis=1, keepdims=True)\n",
        "  dA_prev = np.dot(W.T,dZ)\n",
        "\n",
        "  return dA_prev, dW, db\n",
        "\n",
        "def linear_activation_backward(dA, cache, activation):\n",
        "\n",
        "  linear_cache, activation_cache = cache\n",
        "\n",
        "  dZ = dA\n",
        "    \n",
        "  if activation == 'relu':\n",
        "      dZ = relu_backward(dA, activation_cache)\n",
        "      \n",
        "  elif activation == 'sigmoid':\n",
        "      dZ = sigmoid_backward(dA, activation_cache)\n",
        "  \n",
        "  \n",
        "  dA_prev, dW, db = linear_backward(dZ, linear_cache)\n",
        "    \n",
        "  return dA_prev, dW, db\n"
      ],
      "metadata": {
        "id": "w45fWb0isLOJ"
      },
      "execution_count": null,
      "outputs": []
    },
    {
      "cell_type": "code",
      "source": [
        "#Backward propagation\n",
        "def L_model_backward(AL, Y, caches, activations):\n",
        "  grads = {}\n",
        "  L = len(caches)\n",
        "  m = AL.shape[1]\n",
        "  Y = Y.reshape(AL.shape) # after this line, Y is the same shape as AL\n",
        "\n",
        "  dAL = - (np.divide(Y, AL) - np.divide(1 - Y, 1 - AL))\n",
        "\n",
        "  current_cache = caches[L-1] # Last Layer\n",
        "  grads[\"dA\" + str(L-1)], grads[\"dW\" + str(L)], grads[\"db\" + str(L)] = linear_activation_backward(dAL, current_cache, activation = activations[L-1])\n",
        "\n",
        "\n",
        "  # Loop from l=L-2 to l=0\n",
        "  for l in reversed(range(L-1)):\n",
        "      current_cache = caches[l]\n",
        "      dA_prev_temp, dW_temp, db_temp = linear_activation_backward(grads[\"dA\" + str(l + 1)], current_cache, activation = activations[l-1])\n",
        "      grads[\"dA\" + str(l)] = dA_prev_temp\n",
        "      grads[\"dW\" + str(l + 1)] = dW_temp\n",
        "      grads[\"db\" + str(l + 1)] = db_temp\n",
        "\n",
        "  return grads"
      ],
      "metadata": {
        "id": "RsNpCgDLPJHp"
      },
      "execution_count": null,
      "outputs": []
    },
    {
      "cell_type": "markdown",
      "source": [
        "# Update Parameters"
      ],
      "metadata": {
        "id": "aTWqzFHGwmpX"
      }
    },
    {
      "cell_type": "code",
      "source": [
        "#Update Parameters\n",
        "def update_parameters(parameters, grads, learning_rate):\n",
        "\n",
        "  L = len(parameters) // 2\n",
        "\n",
        "  for l in range(L):\n",
        "      parameters[\"W\" + str(l+1)] = parameters[\"W\" + str(l+1)] - learning_rate * grads[\"dW\" + str(l+1)]\n",
        "      parameters[\"b\" + str(l+1)] = parameters[\"b\" + str(l+1)] - learning_rate * grads[\"db\" + str(l+1)]\n",
        "  return parameters"
      ],
      "metadata": {
        "id": "xsiicKUWwjqJ"
      },
      "execution_count": null,
      "outputs": []
    },
    {
      "cell_type": "code",
      "source": [
        "def train_process(X, Y, parameters, learning_rate, activations, epoch=1):\n",
        "  loss_all = []\n",
        "  for t in range(epoch):\n",
        "      AL, caches = model_forward(X, parameters, activations)\n",
        "      loss = compute_cost(AL, Y)\n",
        "      loss_all.append(loss)\n",
        "      grads = L_model_backward(AL, Y, caches, activations)\n",
        "      parameters = update_parameters(parameters, grads, learning_rate)\n",
        "  return loss_all"
      ],
      "metadata": {
        "id": "LD0B-DlryLx2"
      },
      "execution_count": null,
      "outputs": []
    },
    {
      "cell_type": "code",
      "source": [
        "#Test example: initialize model with:\n",
        "# 8 features for input layer, \n",
        "# 4 nerons for the first hiden layer\n",
        "# 3 nerons for the second hiden layer\n",
        "# 1 neron for the output layer\n",
        "\n",
        "dim           = [8,12,8,1]\n",
        "activations   = ['relu','relu','sigmoid']\n",
        "learning_rate = 0.01\n",
        "epoch         = 1000\n",
        "\n",
        "X = np.asarray(X_train)\n",
        "X = np.transpose(X)\n",
        "\n",
        "Y = np.asarray(y_train)\n",
        "Y = Y.reshape(1, len(Y))\n",
        "\n",
        "parameters = initialize_parameters_deep(dim)\n",
        "\n",
        "loss_all = train_process(X, Y, parameters, learning_rate, activations, epoch)\n",
        "\n",
        "#Convert the array into a 1D array\n",
        "loss_all\n",
        "\n",
        "fig, ax = plt.subplots()\n",
        "ax.plot(loss_all, '-b')\n",
        "plt.show()\n"
      ],
      "metadata": {
        "colab": {
          "base_uri": "https://localhost:8080/",
          "height": 265
        },
        "id": "u0T9V327D2Px",
        "outputId": "69a6e9e1-dbb3-486c-ac84-49b4b3389a3b"
      },
      "execution_count": null,
      "outputs": [
        {
          "output_type": "display_data",
          "data": {
            "text/plain": [
              "<Figure size 432x288 with 1 Axes>"
            ],
            "image/png": "[encoded data removed]"
          },
          "metadata": {
            "needs_background": "light"
          }
        }
      ]
    },
    {
      "cell_type": "code",
      "source": [
        "def predict(X, Y, parameters):\n",
        "  \n",
        "  output, caches = model_forward(X, parameters, activations)\n",
        "  loss = compute_cost(output, Y)\n",
        "  \n",
        "  return output, loss"
      ],
      "metadata": {
        "id": "iEci3aNjjfBp"
      },
      "execution_count": null,
      "outputs": []
    },
    {
      "cell_type": "code",
      "source": [
        "X = np.asarray(X_train)\n",
        "X_train = np.transpose(X)\n",
        "\n",
        "Y = np.asarray(y_train)\n",
        "Y_train = Y.reshape((1, len(Y)))\n",
        "\n",
        "X = np.asarray(X_test)\n",
        "X_test = np.transpose(X)\n",
        "\n",
        "Y = np.asarray(y_test)\n",
        "Y_test = Y.reshape((1, len(Y)))\n",
        "\n",
        "output, loss = predict(X_train, Y_train, parameters)\n",
        "print('train loss : ', loss)\n",
        "\n",
        "output, loss = predict(X_test, Y_test, parameters)\n",
        "print('test loss : ', loss)"
      ],
      "metadata": {
        "colab": {
          "base_uri": "https://localhost:8080/"
        },
        "id": "MHpECiAuj-H6",
        "outputId": "b7c848a0-9ce7-4a67-cfc0-535d7b419949"
      },
      "execution_count": null,
      "outputs": [
        {
          "output_type": "stream",
          "name": "stdout",
          "text": [
            "train loss :  0.6537115591886917\n",
            "test loss :  0.6251266100683284\n"
          ]
        }
      ]
    },
    {
      "cell_type": "markdown",
      "source": [
        "# With Keras now !!!"
      ],
      "metadata": {
        "id": "b0LjihRiqh-S"
      }
    },
    {
      "cell_type": "code",
      "source": [
        "from keras.layers import Dense\n",
        "from keras.models import Sequential\n",
        "\n",
        "\n",
        "\n",
        "model = Sequential()\n",
        "\n",
        "\n",
        "#first hidden layer\n",
        "model.add(Dense(units=12,activation='relu',input_dim=8))\n",
        "#second hidden layer\n",
        "model.add(Dense(units=8,activation='relu'))\n",
        "# Output layer\n",
        "model.add(Dense(units=1,activation='sigmoid'))\n",
        "# Compile the model\n",
        "model.summary()\n",
        "model.compile(optimizer='adam', loss='binary_crossentropy',metrics=['accuracy']) #metrics=['binary_crossentropy','mae'] \n"
      ],
      "metadata": {
        "colab": {
          "base_uri": "https://localhost:8080/"
        },
        "id": "-2gsAEDfmWBm",
        "outputId": "139776f3-6c60-4c3e-cd6d-9c3688673016"
      },
      "execution_count": null,
      "outputs": [
        {
          "output_type": "stream",
          "name": "stdout",
          "text": [
            "Model: \"sequential\"\n",
            "_________________________________________________________________\n",
            " Layer (type)                Output Shape              Param #   \n",
            "=================================================================\n",
            " dense (Dense)               (None, 12)                108       \n",
            "                                                                 \n",
            " dense_1 (Dense)             (None, 8)                 104       \n",
            "                                                                 \n",
            " dense_2 (Dense)             (None, 1)                 9         \n",
            "                                                                 \n",
            "=================================================================\n",
            "Total params: 221\n",
            "Trainable params: 221\n",
            "Non-trainable params: 0\n",
            "_________________________________________________________________\n"
          ]
        }
      ]
    },
    {
      "cell_type": "code",
      "source": [
        "%%capture\n",
        "# Training for 200 epochs\n",
        "history = model.fit(X_train,y_train,epochs=500)"
      ],
      "metadata": {
        "id": "YyIG9R9uxxRD"
      },
      "execution_count": null,
      "outputs": []
    },
    {
      "cell_type": "code",
      "source": [
        "# Train and Test accuracy\n",
        "scores = model.evaluate(X_train,y_train)\n",
        "print(\"Training Accuracy: %.2f%%\\n\" % (scores[1]*100))\n",
        "scores = model.evaluate(X_test,y_test)\n",
        "print(\"Testing Accuracy: %.2f%%\\n\" % (scores[1]*100))"
      ],
      "metadata": {
        "colab": {
          "base_uri": "https://localhost:8080/"
        },
        "id": "tkdV80d5pF3x",
        "outputId": "e3f50ad5-0a08-44e6-a117-31e8a824e98d"
      },
      "execution_count": null,
      "outputs": [
        {
          "output_type": "stream",
          "name": "stdout",
          "text": [
            "20/20 [==============================] - 0s 1ms/step - loss: 0.4316 - accuracy: 0.7948\n",
            "Training Accuracy: 79.48%\n",
            "\n",
            "5/5 [==============================] - 0s 2ms/step - loss: 0.4551 - accuracy: 0.8117\n",
            "Testing Accuracy: 81.17%\n",
            "\n"
          ]
        }
      ]
    },
    {
      "cell_type": "code",
      "source": [
        "plt.plot(history.history['loss'])\n",
        "plt.plot(history.history['accuracy'])\n",
        "plt.title('loss/accuracy curves')\n",
        "plt.ylabel('loss/accuracy scores')\n",
        "plt.xlabel('epoch')\n",
        "plt.legend(['loss', 'accuracy'], loc='upper left')\n",
        "plt.show()"
      ],
      "metadata": {
        "colab": {
          "base_uri": "https://localhost:8080/",
          "height": 295
        },
        "id": "Ap0nGTCUqNyo",
        "outputId": "59ec4882-4138-4b95-e187-ca276c9b6585"
      },
      "execution_count": null,
      "outputs": [
        {
          "output_type": "display_data",
          "data": {
            "text/plain": [
              "<Figure size 432x288 with 1 Axes>"
            ],
            "image/png": "[encoded data removed]"
          },
          "metadata": {
            "needs_background": "light"
          }
        }
      ]
    }
  ]
}