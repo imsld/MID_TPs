{
  "nbformat": 4,
  "nbformat_minor": 0,
  "metadata": {
    "colab": {
      "provenance": [],
      "collapsed_sections": [
        "IDhDSY4m2b1z"
      ],
      "authorship_tag": "ABX9TyPQhcDPwGq76/+39EhATv2k",
      "include_colab_link": true
    },
    "kernelspec": {
      "name": "python3",
      "display_name": "Python 3"
    },
    "language_info": {
      "name": "python"
    }
  },
  "cells": [
    {
      "cell_type": "markdown",
      "metadata": {
        "id": "view-in-github",
        "colab_type": "text"
      },
      "source": [
        "<a href=\"https://colab.research.google.com/github/imsld/MID_TPs/blob/main/1_TP_k_means.ipynb\" target=\"_parent\"><img src=\"https://colab.research.google.com/assets/colab-badge.svg\" alt=\"Open In Colab\"/></a>"
      ]
    },
    {
      "cell_type": "markdown",
      "source": [
        "## **TP n°1: K-means (Version Draft)** \n",
        "\n",
        "**Auteur:** SMAHI Mohammed Ismail\n",
        "\n",
        "**Année:** 2022/2023\n",
        "\n",
        "**Module:** Apprentissage statistique\n",
        "\n",
        "**Promotion:** Modèles intelligents et décision MID\n",
        "\n",
        "**L’objectif** du TP est de s'initier avec le langage Python anins que de se familiariser avec l'environnement de travail Jupyter. Pour ce faire, nous nous intéressons au prblème de la classification automatique avec k-means. K-Means est une méthode d'apprentissage non supervisée. Elle est utilisé pour résoudre les problèmes de clustering dans l'apprentissage automatique. Dans ce TP, nous apprendrons ce qu'est l'algorithme de clustering K-means, comment l'algorithme fonctionne, ainsi que son implémentation en langage Python.\n",
        "\n",
        "<img src=\"https://static.javatpoint.com/tutorial/machine-learning/images/k-means-clustering-algorithm-in-machine-learning.png\"/>"
      ],
      "metadata": {
        "id": "IDhDSY4m2b1z"
      }
    },
    {
      "cell_type": "markdown",
      "source": [
        "## **Manipulation des bibliothèques**\n",
        "> La première étape consiste à impoter les bibliothèques nécessaires dans la partie prétraitement des données. Les bibilothèques utilisées pour cet exercice sont:\n",
        "\n",
        "*   `make_blobs` pour générer aléatoirement un jeu de données\n",
        "\n",
        "*   `numpy` utilisée pour les tableaux multidimensionnels\n",
        "\n",
        "*   `pandas` spécifiquement conçue pour la manipulation et l’analyse de données\n",
        "\n",
        "*   `matplotlib` utilisée pour tracer des graphiques"
      ],
      "metadata": {
        "id": "Ulu-1JG35Deu"
      }
    },
    {
      "cell_type": "code",
      "execution_count": null,
      "metadata": {
        "id": "24uuDTOY2Ys1"
      },
      "outputs": [],
      "source": [
        "from sklearn.datasets import make_blobs\n",
        "import numpy as np\n",
        "import pandas as pd\n",
        "import matplotlib.pyplot as plt\n",
        "from matplotlib.colors import ListedColormap\n",
        "%matplotlib inline"
      ]
    },
    {
      "cell_type": "markdown",
      "source": [
        "## **Manipulation du jeu de données**\n",
        "\n",
        "### Génération aléatoire de notre jeu de données\n",
        "> Le jeu de données qui va servi d’exemple est crée via la fonctionalité `make_blobs` de la bibliothèque `Scikit-Learn`. Les paramètres à initialiser sont:\n",
        "\n",
        "*   `n_samples`: nombre d'échantillons ou d'observations (lignes)\n",
        "\n",
        "*   `n_features`: nombre de variables (colonnes)\n",
        "\n",
        "*   `centers`: nombre de clusters à créer\n",
        "\n",
        "*   `cluster_std` l'écart type des clusters. Plus l'écart type est faible, plus les points de données seront proches dans un cluster donné\n",
        "\n",
        "*   `random_state` afin d'obtenir le même jeu de données à chaque exécution ce paramètre est initialisé à la valeur `0`\n",
        "\n",
        ">La fonction `make_blobs` retourne à la fois notre jeu de donnée dans la varaibale `dataset` ainsi que le numéro du cluster pour chaque entrée.\n",
        "\n",
        "### Utilisation du DataFrame\n",
        "\n",
        "Notre jeu de données sera transtipé vers un dataframe pour une manipulation plus avancée. \n",
        "\n",
        "L'objectif est d'intégré les entrées avec leur cluster dans la même structure. Le résultat est un datafarme composé de 3 colonnes."
      ],
      "metadata": {
        "id": "OFe8sT3E2aC4"
      }
    },
    {
      "cell_type": "code",
      "source": [
        "# Génération aléatoire de notre jeu de données\n",
        "dataset, classes = make_blobs(n_samples=15, n_features=2, centers=3, cluster_std=1, random_state=0)\n",
        "\n",
        "# Utilisation du DataFrame\n",
        "blobs = pd.DataFrame(dataset, columns=['X1', 'X2'])\n",
        "blobs['cluster'] = classes\n",
        "\n",
        "# Affichage\n",
        "colnames = list(blobs.head())\n",
        "\n",
        "blobs"
      ],
      "metadata": {
        "id": "HkIqpq935a9_",
        "colab": {
          "base_uri": "https://localhost:8080/",
          "height": 520
        },
        "outputId": "ac19b141-8ec3-4ec7-91b6-84c62aa31ae0"
      },
      "execution_count": null,
      "outputs": [
        {
          "output_type": "execute_result",
          "data": {
            "text/plain": [
              "          X1        X2  cluster\n",
              "0  -1.371957  3.296045        2\n",
              "1  -2.414690  0.937086        2\n",
              "2   2.919704  0.155499        1\n",
              "3   4.325022 -0.556702        1\n",
              "4  -1.481145  2.730698        2\n",
              "5   0.873051  4.714386        0\n",
              "6   1.420133  4.637462        0\n",
              "7   3.549347  0.692505        1\n",
              "8  -1.874816  3.074231        2\n",
              "9   1.926358  4.152430        0\n",
              "10  1.120314  5.758061        0\n",
              "11  0.005875  4.387241        2\n",
              "12 -0.497722  1.551282        1\n",
              "13  2.368335  0.043568        1\n",
              "14  1.737308  4.425462        0"
            ],
            "text/html": [
              "\n",
              "  <div id=\"df-9dffbb17-83ab-4ea2-8c4e-ce16f28f7d9f\">\n",
              "    <div class=\"colab-df-container\">\n",
              "      <div>\n",
              "<style scoped>\n",
              "    .dataframe tbody tr th:only-of-type {\n",
              "        vertical-align: middle;\n",
              "    }\n",
              "\n",
              "    .dataframe tbody tr th {\n",
              "        vertical-align: top;\n",
              "    }\n",
              "\n",
              "    .dataframe thead th {\n",
              "        text-align: right;\n",
              "    }\n",
              "</style>\n",
              "<table border=\"1\" class=\"dataframe\">\n",
              "  <thead>\n",
              "    <tr style=\"text-align: right;\">\n",
              "      <th></th>\n",
              "      <th>X1</th>\n",
              "      <th>X2</th>\n",
              "      <th>cluster</th>\n",
              "    </tr>\n",
              "  </thead>\n",
              "  <tbody>\n",
              "    <tr>\n",
              "      <th>0</th>\n",
              "      <td>-1.371957</td>\n",
              "      <td>3.296045</td>\n",
              "      <td>2</td>\n",
              "    </tr>\n",
              "    <tr>\n",
              "      <th>1</th>\n",
              "      <td>-2.414690</td>\n",
              "      <td>0.937086</td>\n",
              "      <td>2</td>\n",
              "    </tr>\n",
              "    <tr>\n",
              "      <th>2</th>\n",
              "      <td>2.919704</td>\n",
              "      <td>0.155499</td>\n",
              "      <td>1</td>\n",
              "    </tr>\n",
              "    <tr>\n",
              "      <th>3</th>\n",
              "      <td>4.325022</td>\n",
              "      <td>-0.556702</td>\n",
              "      <td>1</td>\n",
              "    </tr>\n",
              "    <tr>\n",
              "      <th>4</th>\n",
              "      <td>-1.481145</td>\n",
              "      <td>2.730698</td>\n",
              "      <td>2</td>\n",
              "    </tr>\n",
              "    <tr>\n",
              "      <th>5</th>\n",
              "      <td>0.873051</td>\n",
              "      <td>4.714386</td>\n",
              "      <td>0</td>\n",
              "    </tr>\n",
              "    <tr>\n",
              "      <th>6</th>\n",
              "      <td>1.420133</td>\n",
              "      <td>4.637462</td>\n",
              "      <td>0</td>\n",
              "    </tr>\n",
              "    <tr>\n",
              "      <th>7</th>\n",
              "      <td>3.549347</td>\n",
              "      <td>0.692505</td>\n",
              "      <td>1</td>\n",
              "    </tr>\n",
              "    <tr>\n",
              "      <th>8</th>\n",
              "      <td>-1.874816</td>\n",
              "      <td>3.074231</td>\n",
              "      <td>2</td>\n",
              "    </tr>\n",
              "    <tr>\n",
              "      <th>9</th>\n",
              "      <td>1.926358</td>\n",
              "      <td>4.152430</td>\n",
              "      <td>0</td>\n",
              "    </tr>\n",
              "    <tr>\n",
              "      <th>10</th>\n",
              "      <td>1.120314</td>\n",
              "      <td>5.758061</td>\n",
              "      <td>0</td>\n",
              "    </tr>\n",
              "    <tr>\n",
              "      <th>11</th>\n",
              "      <td>0.005875</td>\n",
              "      <td>4.387241</td>\n",
              "      <td>2</td>\n",
              "    </tr>\n",
              "    <tr>\n",
              "      <th>12</th>\n",
              "      <td>-0.497722</td>\n",
              "      <td>1.551282</td>\n",
              "      <td>1</td>\n",
              "    </tr>\n",
              "    <tr>\n",
              "      <th>13</th>\n",
              "      <td>2.368335</td>\n",
              "      <td>0.043568</td>\n",
              "      <td>1</td>\n",
              "    </tr>\n",
              "    <tr>\n",
              "      <th>14</th>\n",
              "      <td>1.737308</td>\n",
              "      <td>4.425462</td>\n",
              "      <td>0</td>\n",
              "    </tr>\n",
              "  </tbody>\n",
              "</table>\n",
              "</div>\n",
              "      <button class=\"colab-df-convert\" onclick=\"convertToInteractive('df-9dffbb17-83ab-4ea2-8c4e-ce16f28f7d9f')\"\n",
              "              title=\"Convert this dataframe to an interactive table.\"\n",
              "              style=\"display:none;\">\n",
              "        \n",
              "  <svg xmlns=\"http://www.w3.org/2000/svg\" height=\"24px\"viewBox=\"0 0 24 24\"\n",
              "       width=\"24px\">\n",
              "    <path d=\"M0 0h24v24H0V0z\" fill=\"none\"/>\n",
              "    <path d=\"M18.56 5.44l.94 2.06.94-2.06 2.06-.94-2.06-.94-.94-2.06-.94 2.06-2.06.94zm-11 1L8.5 8.5l.94-2.06 2.06-.94-2.06-.94L8.5 2.5l-.94 2.06-2.06.94zm10 10l.94 2.06.94-2.06 2.06-.94-2.06-.94-.94-2.06-.94 2.06-2.06.94z\"/><path d=\"M17.41 7.96l-1.37-1.37c-.4-.4-.92-.59-1.43-.59-.52 0-1.04.2-1.43.59L10.3 9.45l-7.72 7.72c-.78.78-.78 2.05 0 2.83L4 21.41c.39.39.9.59 1.41.59.51 0 1.02-.2 1.41-.59l7.78-7.78 2.81-2.81c.8-.78.8-2.07 0-2.86zM5.41 20L4 18.59l7.72-7.72 1.47 1.35L5.41 20z\"/>\n",
              "  </svg>\n",
              "      </button>\n",
              "      \n",
              "  <style>\n",
              "    .colab-df-container {\n",
              "      display:flex;\n",
              "      flex-wrap:wrap;\n",
              "      gap: 12px;\n",
              "    }\n",
              "\n",
              "    .colab-df-convert {\n",
              "      background-color: #E8F0FE;\n",
              "      border: none;\n",
              "      border-radius: 50%;\n",
              "      cursor: pointer;\n",
              "      display: none;\n",
              "      fill: #1967D2;\n",
              "      height: 32px;\n",
              "      padding: 0 0 0 0;\n",
              "      width: 32px;\n",
              "    }\n",
              "\n",
              "    .colab-df-convert:hover {\n",
              "      background-color: #E2EBFA;\n",
              "      box-shadow: 0px 1px 2px rgba(60, 64, 67, 0.3), 0px 1px 3px 1px rgba(60, 64, 67, 0.15);\n",
              "      fill: #174EA6;\n",
              "    }\n",
              "\n",
              "    [theme=dark] .colab-df-convert {\n",
              "      background-color: #3B4455;\n",
              "      fill: #D2E3FC;\n",
              "    }\n",
              "\n",
              "    [theme=dark] .colab-df-convert:hover {\n",
              "      background-color: #434B5C;\n",
              "      box-shadow: 0px 1px 3px 1px rgba(0, 0, 0, 0.15);\n",
              "      filter: drop-shadow(0px 1px 2px rgba(0, 0, 0, 0.3));\n",
              "      fill: #FFFFFF;\n",
              "    }\n",
              "  </style>\n",
              "\n",
              "      <script>\n",
              "        const buttonEl =\n",
              "          document.querySelector('#df-9dffbb17-83ab-4ea2-8c4e-ce16f28f7d9f button.colab-df-convert');\n",
              "        buttonEl.style.display =\n",
              "          google.colab.kernel.accessAllowed ? 'block' : 'none';\n",
              "\n",
              "        async function convertToInteractive(key) {\n",
              "          const element = document.querySelector('#df-9dffbb17-83ab-4ea2-8c4e-ce16f28f7d9f');\n",
              "          const dataTable =\n",
              "            await google.colab.kernel.invokeFunction('convertToInteractive',\n",
              "                                                     [key], {});\n",
              "          if (!dataTable) return;\n",
              "\n",
              "          const docLinkHtml = 'Like what you see? Visit the ' +\n",
              "            '<a target=\"_blank\" href=https://colab.research.google.com/notebooks/data_table.ipynb>data table notebook</a>'\n",
              "            + ' to learn more about interactive tables.';\n",
              "          element.innerHTML = '';\n",
              "          dataTable['output_type'] = 'display_data';\n",
              "          await google.colab.output.renderOutput(dataTable, element);\n",
              "          const docLink = document.createElement('div');\n",
              "          docLink.innerHTML = docLinkHtml;\n",
              "          element.appendChild(docLink);\n",
              "        }\n",
              "      </script>\n",
              "    </div>\n",
              "  </div>\n",
              "  "
            ]
          },
          "metadata": {},
          "execution_count": 7
        }
      ]
    },
    {
      "cell_type": "markdown",
      "source": [
        "## **Visualisation des données** \n",
        "\n",
        "> La bibliothèque `matplotlib` est utilisée afin de tracer et de visualiser des données sous formes de graphiques. Nous allons créer des grilles de graphes.\n",
        "\n",
        "*   l’instruction `subplot()` qui va décrire une grille\n",
        "*   `scatter()` pour tracer des point\n",
        "*   `show()` affiche le graphe"
      ],
      "metadata": {
        "id": "n-JXZXvX6IWn"
      }
    },
    {
      "cell_type": "code",
      "source": [
        "# Tableau de couleur à utiliser\n",
        "customcmap = ListedColormap([\"red\", \"green\", \"blue\"])\n",
        "\n",
        "# Conception du graphe\n",
        "fig, ax = plt.subplots(figsize=(8, 6))\n",
        "plt.scatter(x=blobs[colnames[0]], y=blobs[colnames[1]], s=150,c=blobs[colnames[2]].astype('category'),cmap = customcmap)\n",
        "ax.set_xlabel(colnames[0], fontsize=14)\n",
        "ax.set_ylabel(colnames[1], fontsize=14)\n",
        "plt.xticks(fontsize=12)\n",
        "plt.yticks(fontsize=12)\n",
        "\n",
        "# Affichage du graphe\n",
        "plt.show()"
      ],
      "metadata": {
        "id": "pSTmyJU56LX1",
        "colab": {
          "base_uri": "https://localhost:8080/",
          "height": 397
        },
        "outputId": "87384538-4aa2-4bf5-efe7-90faa9e0d2a9"
      },
      "execution_count": null,
      "outputs": [
        {
          "output_type": "display_data",
          "data": {
            "text/plain": [
              "<Figure size 576x432 with 1 Axes>"
            ],
            "image/png": "[encoded data removed]"
          },
          "metadata": {
            "needs_background": "light"
          }
        }
      ]
    },
    {
      "cell_type": "markdown",
      "source": [
        "## **Implémentation de l'algorithme K-means** \n",
        "\n",
        "<img src=\"https://raw.githubusercontent.com/satishgunjal/images/master/Inner_Working_K_Means.png\"/>"
      ],
      "metadata": {
        "id": "ah0zZZWA674l"
      }
    },
    {
      "cell_type": "markdown",
      "source": [
        "### **Procédure d'initialisation des centroides**"
      ],
      "metadata": {
        "id": "xVhyWRzOJqAW"
      }
    },
    {
      "cell_type": "code",
      "source": [
        "def initiate_centroids(k, dset):\n",
        "    '''\n",
        "    Sélection de k points comme centroids\n",
        "    k: le nombre des centroids\n",
        "    dset: jeu données (pandas dataframe)\n",
        "    '''\n",
        "    centroids = dset.sample(k)\n",
        "    return centroids"
      ],
      "metadata": {
        "id": "fA2seOct67eu"
      },
      "execution_count": null,
      "outputs": []
    },
    {
      "cell_type": "markdown",
      "source": [
        "**Q1 :**\n",
        "> Pour un premier test, initiliser 3 points centroides et sauvegarder les dans la variable (tableau) `centroids`.\n",
        "\n",
        "> `dataset[['col1','col2']]` permet de récuprer les données à partir du jeu de donnée"
      ],
      "metadata": {
        "id": "rZsVE_R1-xam"
      }
    },
    {
      "cell_type": "code",
      "source": [
        "'''\n",
        "Compléter le code ci-dessous\n",
        "'''\n",
        "\n",
        "# Initiliser le nombre de centroides\n",
        "k = \n",
        "\n",
        "# Récuprer les données\n",
        "df = \n",
        "\n",
        "# Récupérer les centroides\n",
        "centroids = \n",
        "\n",
        "# Affichage des k centroides\n",
        "centroids"
      ],
      "metadata": {
        "id": "gOKx0MzzARHA"
      },
      "execution_count": null,
      "outputs": []
    },
    {
      "cell_type": "markdown",
      "source": [
        "### **Calcul de distance Euclidienne**\n",
        "\n",
        "> La distance euclidienne est calculée entre le point centroides du cluster donné et celui de chacun des points voisins. La distance euclidienne `d` entre deux observations `x_1` et `x_2` se calcule comme suit: \n",
        "\n",
        "> <img src=\"https://mrmint.fr/wp-content/ql-cache/quicklatex.com-2f31a6d25d3a9a26ad7aab130f3bec8d_l3.svg\"/>"
      ],
      "metadata": {
        "id": "9U82ExFiKIVu"
      }
    },
    {
      "cell_type": "markdown",
      "source": [
        "**Q2:** \n",
        "\n",
        "> Implémenter la fonction `eur_err`. \n",
        "\n",
        "**Indication:** \n",
        "\n",
        "> Vous devez utiliser les méthodes `square` et `sum` issues de la bibliothèque `numpy`"
      ],
      "metadata": {
        "id": "LOdnNq2rNRP3"
      }
    },
    {
      "cell_type": "code",
      "source": [
        "def euc_err(a,b):\n",
        "    '''\n",
        "    Calculer la distance Euclidienne. \n",
        "    a et b sont des numpy arrays\n",
        "    '''\n",
        "\n",
        "    # Compléter la ligne ci-dessous\n",
        "    err = \n",
        "    return err"
      ],
      "metadata": {
        "id": "YvbWll2_L2JF"
      },
      "execution_count": null,
      "outputs": []
    },
    {
      "cell_type": "markdown",
      "source": [
        "**Q3** \n",
        "> Calculer la distance euclidienne entre le `kième` exemple du jeu de données avec nos trois centroides.\n",
        "\n",
        "**Indication:** \n",
        "> `iloc[num_row,:]` est une méthode de la bibliothèque DataFrame utilisée pour retourner toute la ligne 'num_row' d'une variable de type DataFrame."
      ],
      "metadata": {
        "id": "hMTQQvhVLzcH"
      }
    },
    {
      "cell_type": "code",
      "source": [
        "# l'utilisation d'une boucle dans Python\n",
        "for i, centroid in enumerate(range(centroids.shape[0])):\n",
        "  \n",
        "  # Compléter la ligne ci-dessous\n",
        "  a = \n",
        "  \n",
        "  # Compléter la ligne ci-dessous\n",
        "  b = \n",
        "\n",
        "  # Calcul de l'erreur (appeller la fonction euc_err)\n",
        "  err = \n",
        "  \n",
        "  # Affichage de l'erreur\n",
        "  print('Error for centroid {0}: {1:.2f}'.format(i, err))"
      ],
      "metadata": {
        "id": "zpkBueh-YYbl"
      },
      "execution_count": null,
      "outputs": []
    },
    {
      "cell_type": "markdown",
      "source": [
        "**Q4:**\n",
        "> Quel est le résultat de la procedure ci-dessous. Commenter chaque ligne du code."
      ],
      "metadata": {
        "id": "s1_Bh9IdZ3ZG"
      }
    },
    {
      "cell_type": "code",
      "source": [
        "def centroid_assignation(dset, centroids):\n",
        "    k = centroids.shape[0]\n",
        "    n = dset.shape[0]\n",
        "    assignation = []\n",
        "    assign_errors = []\n",
        "\n",
        "    for obs in range(n):\n",
        "      \n",
        "        all_errors = np.array([])\n",
        "        for centroid in range(k):\n",
        "            err = euc_err(centroids.iloc[centroid, :], dset.iloc[obs,:])\n",
        "            all_errors = np.append(all_errors, err)\n",
        "        \n",
        "        nearest_centroid =  np.where(all_errors==np.amin(all_errors))[0].tolist()[0]\n",
        "        nearest_centroid_error = np.amin(all_errors)\n",
        "\n",
        "        assignation.append(nearest_centroid)\n",
        "        assign_errors.append(nearest_centroid_error)\n",
        "\n",
        "    return assignation, assign_errors"
      ],
      "metadata": {
        "id": "9gtw97MMZxJj"
      },
      "execution_count": null,
      "outputs": []
    },
    {
      "cell_type": "markdown",
      "source": [
        "**Q5:**\n",
        "> Exécuter la procédure précédente, tout en affichant la 10 premiers exemples"
      ],
      "metadata": {
        "id": "C16PfJRubF9U"
      }
    },
    {
      "cell_type": "code",
      "source": [
        "df['centroid'], df['error'] = centroid_assignation(df, centroids)\n",
        "\n",
        "# Affichage des 10 premiers exemple (compléter le code)\n",
        "..."
      ],
      "metadata": {
        "id": "8xeeBhVfa4Je"
      },
      "execution_count": null,
      "outputs": []
    },
    {
      "cell_type": "markdown",
      "source": [
        "**Q6:**\n",
        "> Afficher dans un diagramme de type nuage de points les différents exemples ainsi que les trois centroides."
      ],
      "metadata": {
        "id": "U4xgff7sayBA"
      }
    },
    {
      "cell_type": "code",
      "source": [
        "fig, ax = plt.subplots(figsize=(8, 6))\n",
        "\n",
        "# le nuage de points des exemples (compléter le code)\n",
        "plt.scatter(......)\n",
        "\n",
        "# le nuage de points des centroides (compléter le code)\n",
        "plt.scatter(......)\n",
        "\n",
        "plt.show()"
      ],
      "metadata": {
        "id": "zDHP2S7hcAXl"
      },
      "execution_count": null,
      "outputs": []
    },
    {
      "cell_type": "code",
      "source": [
        "%%capture\n",
        "#from google.colab import drive\n",
        "#drive.mount('/content/drive')\n",
        "\n",
        "from IPython.display import set_matplotlib_formats\n",
        "set_matplotlib_formats('pdf', 'svg')\n",
        "\n",
        "\n",
        "file_name=\"k-means.ipynb\"\n",
        "notebookpath=\"/content/drive/MyDrive/Colab Notebooks/\"\n",
        "\n",
        "import os\n",
        "\n",
        "# Checking if file_name passed is a string.\n",
        "if not isinstance(file_name, str):\n",
        "    raise TypeError(\n",
        "        f\"expected a string as file_name, but got {type(file_name)} instead.\"\n",
        "    )\n",
        "\n",
        "# Using the defaults used by google.colab\n",
        "drive_mount_point = \"/content/drive/\"\n",
        "gdrive_home = os.path.join(drive_mount_point, \"My Drive/\")\n",
        "\n",
        "# If the drive is not already mounted, attempt to mount it.\n",
        "if not os.path.isdir(gdrive_home):\n",
        "    from google.colab import drive\n",
        "\n",
        "    drive.mount(drive_mount_point)\n",
        "\n",
        "# Check if the notebook exists in the Drive.\n",
        "if not os.path.isfile(os.path.join(notebookpath, file_name)):\n",
        "    raise ValueError(f\"file '{file_name}' not found in path '{notebookpath}'.\")\n",
        "\n",
        "# Installing all the recommended packages.\n",
        "get_ipython().system(\"apt update >> /dev/null && apt install texlive-xetex texlive-fonts-recommended texlive-generic-recommended >> /dev/null\")\n",
        "\n",
        "# If pdf with the same name exists, remove it.\n",
        "pdf_file = os.path.join(gdrive_home, file_name.split(\".\")[0] + \".pdf\")\n",
        "\n",
        "if os.path.isfile(pdf_file):\n",
        "  os.remove(pdf_file)\n",
        "\n",
        "!jupyter nbconvert --to pdf /content/drive/MyDrive/Colab\\ Notebooks/k-means_TP.ipynb"
      ],
      "metadata": {
        "id": "UkvcDrzlf1VL"
      },
      "execution_count": null,
      "outputs": []
    }
  ]
}